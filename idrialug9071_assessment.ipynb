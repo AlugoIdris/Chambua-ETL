{
 "cells": [
  {
   "cell_type": "markdown",
   "id": "8d5fa71e",
   "metadata": {},
   "source": [
    "# ETL Pipeline"
   ]
  },
  {
   "cell_type": "markdown",
   "id": "e3747502",
   "metadata": {},
   "source": [
    "Import libraries"
   ]
  },
  {
   "cell_type": "code",
   "execution_count": 34,
   "id": "e8d01450",
   "metadata": {},
   "outputs": [],
   "source": [
    "import boto3\n",
    "from botocore import UNSIGNED\n",
    "from botocore.client import Config\n",
    "import psycopg2\n",
    "import snowflake.connector\n",
    "import pandas as pd\n",
    "from psycopg2.pool import ThreadedConnectionPool\n",
    "import numpy as np\n",
    "from psycopg2.extensions import register_adapter, AsIs\n",
    "psycopg2.extensions.register_adapter(np.int64, psycopg2._psycopg.AsIs)\n",
    "from datetime import datetime, timezone\n",
    "import os\n",
    "import glob\n",
    "\n",
    "from sqlalchemy import create_engine\n",
    "from psycopg2.extras import execute_values\n",
    "import psycopg2.pool\n",
    "\n",
    "from io import StringIO\n",
    "import csv\n",
    "import configparser"
   ]
  },
  {
   "cell_type": "markdown",
   "id": "8c046e9e",
   "metadata": {},
   "source": [
    "# Load the configuration file"
   ]
  },
  {
   "cell_type": "code",
   "execution_count": 35,
   "id": "82f7458b",
   "metadata": {},
   "outputs": [],
   "source": [
    "config = configparser.ConfigParser()\n",
    "config.read_file(open('cluster.config'))"
   ]
  },
  {
   "cell_type": "markdown",
   "id": "3dee2fff",
   "metadata": {},
   "source": [
    "Extract the credentials from the config file"
   ]
  },
  {
   "cell_type": "code",
   "execution_count": 36,
   "id": "d1f4c9ca",
   "metadata": {},
   "outputs": [],
   "source": [
    "HOST=config.get('DWH', 'HOST')\n",
    "DWH_DB=config.get('DWH', 'DWH_DB')\n",
    "DWH_DB_USER=config.get('DWH', 'DWH_DB_USER')\n",
    "DWH_DB_PASSWORD=config.get('DWH', 'DWH_DB_PASSWORD')\n",
    "DWH_PORT=config.get('DWH', 'DWH_PORT')\n",
    "STAGING_SCHEMA=config.get('DWH', 'STAGING_SCHEMA')\n",
    "ANALYTICS_SCHEMA=config.get('DWH', 'ANALYTICS_SCHEMA')\n",
    "S3_BUCKET_NAME=config.get('DWH', 'S3_BUCKET_NAME')\n",
    "ID=config.get('DWH', 'ID')\n",
    "EXPORT=config.get('DWH', 'EXPORT')"
   ]
  },
  {
   "cell_type": "markdown",
   "id": "00459599",
   "metadata": {},
   "source": [
    "View the credentials"
   ]
  },
  {
   "cell_type": "code",
   "execution_count": 37,
   "id": "57152540",
   "metadata": {},
   "outputs": [
    {
     "data": {
      "text/html": [
       "<div>\n",
       "<style scoped>\n",
       "    .dataframe tbody tr th:only-of-type {\n",
       "        vertical-align: middle;\n",
       "    }\n",
       "\n",
       "    .dataframe tbody tr th {\n",
       "        vertical-align: top;\n",
       "    }\n",
       "\n",
       "    .dataframe thead th {\n",
       "        text-align: right;\n",
       "    }\n",
       "</style>\n",
       "<table border=\"1\" class=\"dataframe\">\n",
       "  <thead>\n",
       "    <tr style=\"text-align: right;\">\n",
       "      <th></th>\n",
       "      <th>Param</th>\n",
       "      <th>Value</th>\n",
       "    </tr>\n",
       "  </thead>\n",
       "  <tbody>\n",
       "    <tr>\n",
       "      <th>0</th>\n",
       "      <td>HOST</td>\n",
       "      <td>d2b-internal-assessment-dwh.cxeuj0ektqdz.eu-ce...</td>\n",
       "    </tr>\n",
       "    <tr>\n",
       "      <th>1</th>\n",
       "      <td>DWH_DB</td>\n",
       "      <td>d2b_assessment</td>\n",
       "    </tr>\n",
       "    <tr>\n",
       "      <th>2</th>\n",
       "      <td>DWH_DB_USER</td>\n",
       "      <td>idrialug9071</td>\n",
       "    </tr>\n",
       "    <tr>\n",
       "      <th>3</th>\n",
       "      <td>DWH_DB_PASSWORD</td>\n",
       "      <td>fBSKguCTJs</td>\n",
       "    </tr>\n",
       "    <tr>\n",
       "      <th>4</th>\n",
       "      <td>DWH_PORT</td>\n",
       "      <td>5432</td>\n",
       "    </tr>\n",
       "    <tr>\n",
       "      <th>5</th>\n",
       "      <td>STAGING_SCHEMA</td>\n",
       "      <td>idrialug9071_staging</td>\n",
       "    </tr>\n",
       "    <tr>\n",
       "      <th>6</th>\n",
       "      <td>ANALYTICS_SCHEMA</td>\n",
       "      <td>idrialug9071_analytics</td>\n",
       "    </tr>\n",
       "    <tr>\n",
       "      <th>7</th>\n",
       "      <td>S3_BUCKET_NAME</td>\n",
       "      <td>d2b-internal-assessment-bucket</td>\n",
       "    </tr>\n",
       "    <tr>\n",
       "      <th>8</th>\n",
       "      <td>ID</td>\n",
       "      <td>idrialug9071</td>\n",
       "    </tr>\n",
       "    <tr>\n",
       "      <th>9</th>\n",
       "      <td>EXPORT</td>\n",
       "      <td>analytics_export</td>\n",
       "    </tr>\n",
       "  </tbody>\n",
       "</table>\n",
       "</div>"
      ],
      "text/plain": [
       "              Param                                              Value\n",
       "0              HOST  d2b-internal-assessment-dwh.cxeuj0ektqdz.eu-ce...\n",
       "1            DWH_DB                                     d2b_assessment\n",
       "2       DWH_DB_USER                                       idrialug9071\n",
       "3   DWH_DB_PASSWORD                                         fBSKguCTJs\n",
       "4          DWH_PORT                                               5432\n",
       "5    STAGING_SCHEMA                               idrialug9071_staging\n",
       "6  ANALYTICS_SCHEMA                             idrialug9071_analytics\n",
       "7    S3_BUCKET_NAME                     d2b-internal-assessment-bucket\n",
       "8                ID                                       idrialug9071\n",
       "9            EXPORT                                   analytics_export"
      ]
     },
     "execution_count": 37,
     "metadata": {},
     "output_type": "execute_result"
    }
   ],
   "source": [
    "pd.DataFrame({\"Param\": ['HOST', 'DWH_DB', 'DWH_DB_USER', 'DWH_DB_PASSWORD', 'DWH_PORT', \n",
    "                       'STAGING_SCHEMA', 'ANALYTICS_SCHEMA', 'S3_BUCKET_NAME', 'ID', 'EXPORT'],\n",
    "              \"Value\": [HOST, DWH_DB, DWH_DB_USER, DWH_DB_PASSWORD, DWH_PORT, \n",
    "                       STAGING_SCHEMA, ANALYTICS_SCHEMA, S3_BUCKET_NAME, ID, EXPORT]\n",
    "})"
   ]
  },
  {
   "cell_type": "markdown",
   "id": "f22e3585",
   "metadata": {},
   "source": [
    "# Connect to S3 Bucket"
   ]
  },
  {
   "cell_type": "code",
   "execution_count": 38,
   "id": "0a42e674",
   "metadata": {},
   "outputs": [],
   "source": [
    "s3 = boto3.client('s3', config=Config(signature_version=UNSIGNED))"
   ]
  },
  {
   "cell_type": "code",
   "execution_count": 39,
   "id": "b9e352bd",
   "metadata": {
    "scrolled": true
   },
   "outputs": [],
   "source": [
    "objects = s3.list_objects_v2(Bucket=S3_BUCKET_NAME, Prefix=\"orders_data/\")"
   ]
  },
  {
   "cell_type": "markdown",
   "id": "77de3823",
   "metadata": {},
   "source": [
    "## Fucntion to load all needed data from S3 bucket"
   ]
  },
  {
   "cell_type": "code",
   "execution_count": 40,
   "id": "7f80a7e3",
   "metadata": {},
   "outputs": [],
   "source": [
    "def download_and_load_query_results(data):\n",
    "    object_lists = []\n",
    "    for obj in objects['Contents'][1:]:\n",
    "        object_lists.append(obj['Key'].split('/')[1].split('.')[0])\n",
    "        \n",
    "    if data in object_lists:\n",
    "        path = f'{data}.csv'\n",
    "        name = obj['Key'].split('/')[1].split('.')[0]\n",
    "    s3.download_file(\n",
    "        S3_BUCKET_NAME,\n",
    "        Key = f\"orders_data/{path}\",\n",
    "        Filename  = path,\n",
    "    )\n",
    "\n",
    "    return pd.read_csv(path)"
   ]
  },
  {
   "cell_type": "code",
   "execution_count": 41,
   "id": "ef79335d",
   "metadata": {},
   "outputs": [],
   "source": [
    "queries = ['orders', 'reviews', 'shipment_deliveries']\n",
    "data = {}\n",
    "\n",
    "for query in queries:\n",
    "    result = download_and_load_query_results(query)\n",
    "    data[query] = result"
   ]
  },
  {
   "cell_type": "code",
   "execution_count": 42,
   "id": "1ddc2c6c",
   "metadata": {},
   "outputs": [
    {
     "data": {
      "text/html": [
       "<div>\n",
       "<style scoped>\n",
       "    .dataframe tbody tr th:only-of-type {\n",
       "        vertical-align: middle;\n",
       "    }\n",
       "\n",
       "    .dataframe tbody tr th {\n",
       "        vertical-align: top;\n",
       "    }\n",
       "\n",
       "    .dataframe thead th {\n",
       "        text-align: right;\n",
       "    }\n",
       "</style>\n",
       "<table border=\"1\" class=\"dataframe\">\n",
       "  <thead>\n",
       "    <tr style=\"text-align: right;\">\n",
       "      <th></th>\n",
       "      <th>order_id</th>\n",
       "      <th>customer_id</th>\n",
       "      <th>order_date</th>\n",
       "      <th>product_id</th>\n",
       "      <th>unit_price</th>\n",
       "      <th>quantity</th>\n",
       "      <th>total_price</th>\n",
       "    </tr>\n",
       "  </thead>\n",
       "  <tbody>\n",
       "    <tr>\n",
       "      <th>0</th>\n",
       "      <td>1</td>\n",
       "      <td>5</td>\n",
       "      <td>2022-07-13</td>\n",
       "      <td>24</td>\n",
       "      <td>139</td>\n",
       "      <td>10</td>\n",
       "      <td>1390</td>\n",
       "    </tr>\n",
       "    <tr>\n",
       "      <th>1</th>\n",
       "      <td>2</td>\n",
       "      <td>14</td>\n",
       "      <td>2021-04-06</td>\n",
       "      <td>2</td>\n",
       "      <td>273</td>\n",
       "      <td>4</td>\n",
       "      <td>1092</td>\n",
       "    </tr>\n",
       "    <tr>\n",
       "      <th>2</th>\n",
       "      <td>3</td>\n",
       "      <td>17</td>\n",
       "      <td>2022-07-29</td>\n",
       "      <td>20</td>\n",
       "      <td>253</td>\n",
       "      <td>9</td>\n",
       "      <td>2277</td>\n",
       "    </tr>\n",
       "    <tr>\n",
       "      <th>3</th>\n",
       "      <td>4</td>\n",
       "      <td>14</td>\n",
       "      <td>2022-08-27</td>\n",
       "      <td>8</td>\n",
       "      <td>334</td>\n",
       "      <td>1</td>\n",
       "      <td>334</td>\n",
       "    </tr>\n",
       "    <tr>\n",
       "      <th>4</th>\n",
       "      <td>5</td>\n",
       "      <td>25</td>\n",
       "      <td>2021-12-15</td>\n",
       "      <td>6</td>\n",
       "      <td>334</td>\n",
       "      <td>3</td>\n",
       "      <td>1002</td>\n",
       "    </tr>\n",
       "  </tbody>\n",
       "</table>\n",
       "</div>"
      ],
      "text/plain": [
       "   order_id  customer_id  order_date  product_id  unit_price  quantity  \\\n",
       "0         1            5  2022-07-13          24         139        10   \n",
       "1         2           14  2021-04-06           2         273         4   \n",
       "2         3           17  2022-07-29          20         253         9   \n",
       "3         4           14  2022-08-27           8         334         1   \n",
       "4         5           25  2021-12-15           6         334         3   \n",
       "\n",
       "   total_price  \n",
       "0         1390  \n",
       "1         1092  \n",
       "2         2277  \n",
       "3          334  \n",
       "4         1002  "
      ]
     },
     "execution_count": 42,
     "metadata": {},
     "output_type": "execute_result"
    }
   ],
   "source": [
    "orders = data['orders']\n",
    "orders.head()"
   ]
  },
  {
   "cell_type": "code",
   "execution_count": 43,
   "id": "b6fde66f",
   "metadata": {},
   "outputs": [
    {
     "data": {
      "text/html": [
       "<div>\n",
       "<style scoped>\n",
       "    .dataframe tbody tr th:only-of-type {\n",
       "        vertical-align: middle;\n",
       "    }\n",
       "\n",
       "    .dataframe tbody tr th {\n",
       "        vertical-align: top;\n",
       "    }\n",
       "\n",
       "    .dataframe thead th {\n",
       "        text-align: right;\n",
       "    }\n",
       "</style>\n",
       "<table border=\"1\" class=\"dataframe\">\n",
       "  <thead>\n",
       "    <tr style=\"text-align: right;\">\n",
       "      <th></th>\n",
       "      <th>review</th>\n",
       "      <th>product_id</th>\n",
       "    </tr>\n",
       "  </thead>\n",
       "  <tbody>\n",
       "    <tr>\n",
       "      <th>0</th>\n",
       "      <td>1</td>\n",
       "      <td>21</td>\n",
       "    </tr>\n",
       "    <tr>\n",
       "      <th>1</th>\n",
       "      <td>3</td>\n",
       "      <td>1</td>\n",
       "    </tr>\n",
       "    <tr>\n",
       "      <th>2</th>\n",
       "      <td>2</td>\n",
       "      <td>8</td>\n",
       "    </tr>\n",
       "    <tr>\n",
       "      <th>3</th>\n",
       "      <td>1</td>\n",
       "      <td>5</td>\n",
       "    </tr>\n",
       "    <tr>\n",
       "      <th>4</th>\n",
       "      <td>5</td>\n",
       "      <td>22</td>\n",
       "    </tr>\n",
       "  </tbody>\n",
       "</table>\n",
       "</div>"
      ],
      "text/plain": [
       "   review  product_id\n",
       "0       1          21\n",
       "1       3           1\n",
       "2       2           8\n",
       "3       1           5\n",
       "4       5          22"
      ]
     },
     "execution_count": 43,
     "metadata": {},
     "output_type": "execute_result"
    }
   ],
   "source": [
    "reviews = data['reviews']\n",
    "reviews.head()"
   ]
  },
  {
   "cell_type": "code",
   "execution_count": 44,
   "id": "e94aad7f",
   "metadata": {},
   "outputs": [
    {
     "data": {
      "text/html": [
       "<div>\n",
       "<style scoped>\n",
       "    .dataframe tbody tr th:only-of-type {\n",
       "        vertical-align: middle;\n",
       "    }\n",
       "\n",
       "    .dataframe tbody tr th {\n",
       "        vertical-align: top;\n",
       "    }\n",
       "\n",
       "    .dataframe thead th {\n",
       "        text-align: right;\n",
       "    }\n",
       "</style>\n",
       "<table border=\"1\" class=\"dataframe\">\n",
       "  <thead>\n",
       "    <tr style=\"text-align: right;\">\n",
       "      <th></th>\n",
       "      <th>shipment_id</th>\n",
       "      <th>order_id</th>\n",
       "      <th>shipment_date</th>\n",
       "      <th>delivery_date</th>\n",
       "    </tr>\n",
       "  </thead>\n",
       "  <tbody>\n",
       "    <tr>\n",
       "      <th>0</th>\n",
       "      <td>1</td>\n",
       "      <td>1</td>\n",
       "      <td>2022-07-14</td>\n",
       "      <td>NaN</td>\n",
       "    </tr>\n",
       "    <tr>\n",
       "      <th>1</th>\n",
       "      <td>2</td>\n",
       "      <td>2</td>\n",
       "      <td>NaN</td>\n",
       "      <td>NaN</td>\n",
       "    </tr>\n",
       "    <tr>\n",
       "      <th>2</th>\n",
       "      <td>3</td>\n",
       "      <td>3</td>\n",
       "      <td>2022-07-31</td>\n",
       "      <td>2022-08-03</td>\n",
       "    </tr>\n",
       "    <tr>\n",
       "      <th>3</th>\n",
       "      <td>4</td>\n",
       "      <td>4</td>\n",
       "      <td>2022-09-02</td>\n",
       "      <td>2022-09-05</td>\n",
       "    </tr>\n",
       "    <tr>\n",
       "      <th>4</th>\n",
       "      <td>5</td>\n",
       "      <td>5</td>\n",
       "      <td>2021-12-19</td>\n",
       "      <td>2021-12-20</td>\n",
       "    </tr>\n",
       "  </tbody>\n",
       "</table>\n",
       "</div>"
      ],
      "text/plain": [
       "   shipment_id  order_id shipment_date delivery_date\n",
       "0            1         1    2022-07-14           NaN\n",
       "1            2         2           NaN           NaN\n",
       "2            3         3    2022-07-31    2022-08-03\n",
       "3            4         4    2022-09-02    2022-09-05\n",
       "4            5         5    2021-12-19    2021-12-20"
      ]
     },
     "execution_count": 44,
     "metadata": {},
     "output_type": "execute_result"
    }
   ],
   "source": [
    "shipment_deliveries = data['shipment_deliveries']\n",
    "shipment_deliveries.head()"
   ]
  },
  {
   "cell_type": "markdown",
   "id": "a30e7e66",
   "metadata": {},
   "source": [
    "Transform shipment deliveries data"
   ]
  },
  {
   "cell_type": "code",
   "execution_count": 45,
   "id": "8b39d836",
   "metadata": {},
   "outputs": [],
   "source": [
    "# Format the date \n",
    "shipment_deliveries['shipment_date'] = pd.to_datetime(shipment_deliveries['shipment_date'], format= '%Y-%m-%d').dt.date\n",
    "\n",
    "shipment_deliveries['delivery_date'] = pd.to_datetime(shipment_deliveries['delivery_date'], format= '%Y-%m-%d').dt.date\n",
    "shipment_deliveries = shipment_deliveries.replace({np.NaN: None})"
   ]
  },
  {
   "cell_type": "code",
   "execution_count": 46,
   "id": "11ef7bb8",
   "metadata": {},
   "outputs": [
    {
     "data": {
      "text/html": [
       "<div>\n",
       "<style scoped>\n",
       "    .dataframe tbody tr th:only-of-type {\n",
       "        vertical-align: middle;\n",
       "    }\n",
       "\n",
       "    .dataframe tbody tr th {\n",
       "        vertical-align: top;\n",
       "    }\n",
       "\n",
       "    .dataframe thead th {\n",
       "        text-align: right;\n",
       "    }\n",
       "</style>\n",
       "<table border=\"1\" class=\"dataframe\">\n",
       "  <thead>\n",
       "    <tr style=\"text-align: right;\">\n",
       "      <th></th>\n",
       "      <th>shipment_id</th>\n",
       "      <th>order_id</th>\n",
       "      <th>shipment_date</th>\n",
       "      <th>delivery_date</th>\n",
       "    </tr>\n",
       "  </thead>\n",
       "  <tbody>\n",
       "    <tr>\n",
       "      <th>0</th>\n",
       "      <td>1</td>\n",
       "      <td>1</td>\n",
       "      <td>2022-07-14</td>\n",
       "      <td>None</td>\n",
       "    </tr>\n",
       "    <tr>\n",
       "      <th>1</th>\n",
       "      <td>2</td>\n",
       "      <td>2</td>\n",
       "      <td>None</td>\n",
       "      <td>None</td>\n",
       "    </tr>\n",
       "    <tr>\n",
       "      <th>2</th>\n",
       "      <td>3</td>\n",
       "      <td>3</td>\n",
       "      <td>2022-07-31</td>\n",
       "      <td>2022-08-03</td>\n",
       "    </tr>\n",
       "    <tr>\n",
       "      <th>3</th>\n",
       "      <td>4</td>\n",
       "      <td>4</td>\n",
       "      <td>2022-09-02</td>\n",
       "      <td>2022-09-05</td>\n",
       "    </tr>\n",
       "    <tr>\n",
       "      <th>4</th>\n",
       "      <td>5</td>\n",
       "      <td>5</td>\n",
       "      <td>2021-12-19</td>\n",
       "      <td>2021-12-20</td>\n",
       "    </tr>\n",
       "  </tbody>\n",
       "</table>\n",
       "</div>"
      ],
      "text/plain": [
       "   shipment_id  order_id shipment_date delivery_date\n",
       "0            1         1    2022-07-14          None\n",
       "1            2         2          None          None\n",
       "2            3         3    2022-07-31    2022-08-03\n",
       "3            4         4    2022-09-02    2022-09-05\n",
       "4            5         5    2021-12-19    2021-12-20"
      ]
     },
     "execution_count": 46,
     "metadata": {},
     "output_type": "execute_result"
    }
   ],
   "source": [
    "shipment_deliveries.head()"
   ]
  },
  {
   "cell_type": "markdown",
   "id": "8a06bbfc",
   "metadata": {},
   "source": [
    "# View the Tables Schema"
   ]
  },
  {
   "cell_type": "code",
   "execution_count": 47,
   "id": "ac87f8e1",
   "metadata": {},
   "outputs": [
    {
     "name": "stdout",
     "output_type": "stream",
     "text": [
      "CREATE TABLE \"orders\" (\n",
      "\"order_id\" INTEGER,\n",
      "  \"customer_id\" INTEGER,\n",
      "  \"order_date\" TEXT,\n",
      "  \"product_id\" INTEGER,\n",
      "  \"unit_price\" INTEGER,\n",
      "  \"quantity\" INTEGER,\n",
      "  \"total_price\" INTEGER\n",
      ")\n"
     ]
    }
   ],
   "source": [
    "# Create schema from orders dataframe\n",
    "\n",
    "print(''.join(pd.io.sql.get_schema(orders, 'orders')))"
   ]
  },
  {
   "cell_type": "code",
   "execution_count": 48,
   "id": "14c7ee04",
   "metadata": {},
   "outputs": [
    {
     "name": "stdout",
     "output_type": "stream",
     "text": [
      "CREATE TABLE \"reviews\" (\n",
      "\"review\" INTEGER,\n",
      "  \"product_id\" INTEGER\n",
      ")\n"
     ]
    }
   ],
   "source": [
    "# Create schema from reviews dataframe\n",
    "\n",
    "print(''.join(pd.io.sql.get_schema(reviews, 'reviews')))"
   ]
  },
  {
   "cell_type": "code",
   "execution_count": 49,
   "id": "35d1b36d",
   "metadata": {},
   "outputs": [
    {
     "name": "stdout",
     "output_type": "stream",
     "text": [
      "CREATE TABLE \"shipment_deliveries\" (\n",
      "\"shipment_id\" INTEGER,\n",
      "  \"order_id\" INTEGER,\n",
      "  \"shipment_date\" DATE,\n",
      "  \"delivery_date\" DATE\n",
      ")\n"
     ]
    }
   ],
   "source": [
    "# Create schema from shipment deliveries dataframe\n",
    "\n",
    "print(''.join(pd.io.sql.get_schema(shipment_deliveries, 'shipment_deliveries')))"
   ]
  },
  {
   "cell_type": "markdown",
   "id": "55dd0e38",
   "metadata": {},
   "source": [
    "# Connect to Datawarehouse"
   ]
  },
  {
   "cell_type": "code",
   "execution_count": 50,
   "id": "baacce80",
   "metadata": {},
   "outputs": [],
   "source": [
    "# Create a connection pool with a maximum of 10 connections\n",
    "POOL = psycopg2.pool.SimpleConnectionPool(\n",
    "    1, 10,\n",
    "    host=HOST,\n",
    "    dbname=DWH_DB,\n",
    "    user=DWH_DB_USER,\n",
    "    password=DWH_DB_PASSWORD,\n",
    "    port=DWH_PORT,\n",
    "    options=f\"-c search_path=dbo,{STAGING_SCHEMA}\"\n",
    ")\n",
    "\n",
    "def open_cursor():\n",
    "    try:\n",
    "        # Get a connection from the pool\n",
    "        conn = POOL.getconn()\n",
    "\n",
    "        # Set autocommit mode\n",
    "        conn.set_session(autocommit=True)\n",
    "        \n",
    "        \n",
    "        # Open a cursor on the connection\n",
    "        cur = conn.cursor()\n",
    "        \n",
    "        \n",
    "        # Return the cursor and connection\n",
    "        return cur, conn\n",
    "\n",
    "    except psycopg2.Error as e:\n",
    "        # If an error occurs, log it and raise an exception\n",
    "        print('Error: Could not get connection from the pool')\n",
    "        print(e)\n",
    "        raise\n",
    "        "
   ]
  },
  {
   "cell_type": "markdown",
   "id": "af0a9a3c",
   "metadata": {},
   "source": [
    "Open Connection"
   ]
  },
  {
   "cell_type": "code",
   "execution_count": 51,
   "id": "6f4b17f3",
   "metadata": {},
   "outputs": [],
   "source": [
    "cur, conn = open_cursor()"
   ]
  },
  {
   "cell_type": "markdown",
   "id": "c62c1ffb",
   "metadata": {},
   "source": [
    "# Load Data into Datawarehouse"
   ]
  },
  {
   "cell_type": "markdown",
   "id": "cf82615b",
   "metadata": {},
   "source": [
    "### Orders Table"
   ]
  },
  {
   "cell_type": "code",
   "execution_count": 52,
   "id": "de299bcd",
   "metadata": {},
   "outputs": [],
   "source": [
    "data_orders = orders.values.tolist()\n",
    "\n",
    "try:\n",
    "    cur.execute('''\n",
    "                CREATE TABLE IF NOT EXISTS orders (\n",
    "                order_id INTEGER NOT NULL PRIMARY KEY,\n",
    "                customer_id INTEGER NOT NULL,\n",
    "                order_date DATE NOT NULL,\n",
    "                product_id INTEGER NOT NULL,\n",
    "                unit_price INTEGER NOT NULL,\n",
    "                quantity INTEGER NOT NULL,\n",
    "                total_price INTEGER NOT NULL\n",
    "                );''')\n",
    "\n",
    "\n",
    "    execute_values(cur, '''\n",
    "                INSERT INTO orders(order_id, customer_id, order_date, product_id, unit_price, quantity, total_price) \n",
    "                VALUES %s\n",
    "                ON CONFLICT (order_id) DO UPDATE \n",
    "                SET \n",
    "                customer_id = excluded.customer_id,\n",
    "                order_date = excluded.order_date,\n",
    "                product_id = excluded.product_id,\n",
    "                unit_price = excluded.unit_price,\n",
    "                quantity = excluded.quantity,\n",
    "                total_price = excluded.total_price\n",
    "                ;''', data_orders, page_size=1000)\n",
    "\n",
    "\n",
    "except psycopg2.Error as e:\n",
    "    print('Error: Issue loading table')\n",
    "    print(e)"
   ]
  },
  {
   "cell_type": "markdown",
   "id": "1b370da7",
   "metadata": {},
   "source": [
    "View the loaded orders table - first row"
   ]
  },
  {
   "cell_type": "code",
   "execution_count": 53,
   "id": "9973fb12",
   "metadata": {},
   "outputs": [
    {
     "name": "stdout",
     "output_type": "stream",
     "text": [
      "(65, 20, datetime.datetime(2021, 7, 28, 0, 0), 7, 753, 5, 3765)\n"
     ]
    }
   ],
   "source": [
    "cur.execute('''\n",
    "    select * from orders\n",
    "    ''')\n",
    "\n",
    "# View Data\n",
    "row = cur.fetchone()\n",
    "print(row)\n",
    "# conn.commit()"
   ]
  },
  {
   "cell_type": "markdown",
   "id": "078f4b22",
   "metadata": {},
   "source": [
    "### Shipment Deliveries Table"
   ]
  },
  {
   "cell_type": "code",
   "execution_count": 54,
   "id": "626522e7",
   "metadata": {},
   "outputs": [],
   "source": [
    "data_shipment = shipment_deliveries.values.tolist()\n",
    "\n",
    "try:\n",
    "    cur.execute('''\n",
    "            CREATE TABLE IF NOT EXISTS shipment_deliveries(\n",
    "            shipment_id INTEGER NOT NULL PRIMARY KEY,\n",
    "            order_id INTEGER NOT NULL,\n",
    "            shipment_date DATE NULL,\n",
    "            delivery_date DATE NULL\n",
    "            );''')\n",
    "\n",
    "    execute_values(cur, '''\n",
    "            INSERT INTO shipment_deliveries(shipment_id, order_id, shipment_date, delivery_date) \n",
    "            VALUES %s\n",
    "            ON CONFLICT (shipment_id) DO UPDATE \n",
    "            SET \n",
    "            order_id = excluded.order_id,\n",
    "            shipment_date = excluded.shipment_date,\n",
    "            delivery_date = excluded.delivery_date;\n",
    "            ''', data_shipment, page_size=1000)\n",
    "\n",
    "\n",
    "except psycopg2.Error as e:\n",
    "    print('Error: Issue loading table')\n",
    "    print(e)"
   ]
  },
  {
   "cell_type": "markdown",
   "id": "400320f6",
   "metadata": {},
   "source": [
    "View the loaded shipments deliveries table - first row"
   ]
  },
  {
   "cell_type": "code",
   "execution_count": 55,
   "id": "d37c7e74",
   "metadata": {},
   "outputs": [
    {
     "name": "stdout",
     "output_type": "stream",
     "text": [
      "(2053, 2053, None, None)\n"
     ]
    }
   ],
   "source": [
    "cur.execute('''\n",
    "    select * from shipment_deliveries\n",
    "    ''')\n",
    "\n",
    "# View Data\n",
    "row = cur.fetchone()\n",
    "print(row)"
   ]
  },
  {
   "cell_type": "markdown",
   "id": "fc644f67",
   "metadata": {},
   "source": [
    "### Revies Table"
   ]
  },
  {
   "cell_type": "code",
   "execution_count": 56,
   "id": "b5a3d368",
   "metadata": {},
   "outputs": [],
   "source": [
    "data_reviews = reviews.values.tolist()\n",
    "\n",
    "try:\n",
    "    cur.execute('''\n",
    "        CREATE TABLE IF NOT EXISTS reviews(\n",
    "            review INTEGER NOT NULL PRIMARY KEY,\n",
    "            product_id INTEGER NOT NULL\n",
    "        );\n",
    "    ''')\n",
    "\n",
    "    execute_values(cur, '''\n",
    "        INSERT INTO reviews(review, product_id) \n",
    "        VALUES %s\n",
    "        ''', data_reviews, page_size=1000)\n",
    "\n",
    "except psycopg2.Error as e:\n",
    "    print('Error: Issue loading table')\n",
    "    print(e)"
   ]
  },
  {
   "cell_type": "markdown",
   "id": "d9ba25fe",
   "metadata": {},
   "source": [
    "View the loaded reviews table - first row"
   ]
  },
  {
   "cell_type": "code",
   "execution_count": 57,
   "id": "8c3521d6",
   "metadata": {},
   "outputs": [
    {
     "name": "stdout",
     "output_type": "stream",
     "text": [
      "(1, 21)\n"
     ]
    }
   ],
   "source": [
    "cur.execute('''\n",
    "    select * from reviews\n",
    "    ''')\n",
    "\n",
    "# View Data\n",
    "row = cur.fetchone()\n",
    "print(row)"
   ]
  },
  {
   "cell_type": "markdown",
   "id": "47782766",
   "metadata": {},
   "source": [
    "## Task 1"
   ]
  },
  {
   "cell_type": "code",
   "execution_count": 58,
   "id": "7971a7e7",
   "metadata": {},
   "outputs": [],
   "source": [
    "# Create agg_public_holiday table schema\n",
    "try:\n",
    "    cur.execute('''\n",
    "    DROP TABLE IF EXISTS idrialug9071_analytics.agg_public_holiday;\n",
    "    CREATE TABLE idrialug9071_analytics.agg_public_holiday(\n",
    "    ingestion_date date not null primary key,\n",
    "    tt_order_hol_jan integer not null,\n",
    "    tt_order_hol_feb integer not null,\n",
    "    tt_order_hol_mar integer not null,\n",
    "    tt_order_hol_apr integer not null,\n",
    "    tt_order_hol_may integer not null,\n",
    "    tt_order_hol_jun integer not null,\n",
    "    tt_order_hol_jul integer not null,\n",
    "    tt_order_hol_aug integer not null,\n",
    "    tt_order_hol_sep integer not null,\n",
    "    tt_order_hol_oct integer not null,\n",
    "    tt_order_hol_nov integer not null,\n",
    "    tt_order_hol_dec integer not null\n",
    "    );''')\n",
    "    \n",
    "    # Query to get the number of orders placed on public holiday every month for the past year \n",
    "\n",
    "    cur.execute('''\n",
    "        INSERT INTO idrialug9071_analytics.agg_public_holiday (\n",
    "        ingestion_date,\n",
    "        tt_order_hol_jan,\n",
    "        tt_order_hol_feb,\n",
    "        tt_order_hol_mar,\n",
    "        tt_order_hol_apr,\n",
    "        tt_order_hol_may,\n",
    "        tt_order_hol_jun,\n",
    "        tt_order_hol_jul,\n",
    "        tt_order_hol_aug,\n",
    "        tt_order_hol_sep,\n",
    "        tt_order_hol_oct,\n",
    "        tt_order_hol_nov,\n",
    "        tt_order_hol_dec\n",
    "        )\n",
    "        SELECT \n",
    "            now() as ingestion_date, \n",
    "            COUNT(case when EXTRACT(MONTH FROM order_date) = 1 AND day_of_the_week_num <= 5 AND working_day = False THEN order_date END) as tt_order_hol_jan,\n",
    "            COUNT(case when EXTRACT(MONTH FROM order_date) = 2 AND day_of_the_week_num <= 5 AND working_day = False THEN order_date END) as tt_order_hol_feb,\n",
    "            COUNT(case when EXTRACT(MONTH FROM order_date) = 3 AND day_of_the_week_num <= 5 AND working_day = False THEN order_date END) as tt_order_hol_mar,\n",
    "            COUNT(case when EXTRACT(MONTH FROM order_date) = 4 AND day_of_the_week_num <= 5 AND working_day = False THEN order_date END) as tt_order_hol_apr,\n",
    "            COUNT(case when EXTRACT(MONTH FROM order_date) = 5 AND day_of_the_week_num <= 5 AND working_day = False THEN order_date END) as tt_order_hol_may,\n",
    "            COUNT(case when EXTRACT(MONTH FROM order_date) = 6 AND day_of_the_week_num <= 5 AND working_day = False THEN order_date END) as tt_order_hol_jun,\n",
    "            COUNT(case when EXTRACT(MONTH FROM order_date) = 7 AND day_of_the_week_num <= 5 AND working_day = False THEN order_date END) as tt_order_hol_jul,\n",
    "            COUNT(case when EXTRACT(MONTH FROM order_date) = 8 AND day_of_the_week_num <= 5 AND working_day = False THEN order_date END) as tt_order_hol_aug,\n",
    "            COUNT(case when EXTRACT(MONTH FROM order_date) = 9 AND day_of_the_week_num <= 5 AND working_day = False THEN order_date END) as tt_order_hol_sep,\n",
    "            COUNT(case when EXTRACT(MONTH FROM order_date) = 10 AND day_of_the_week_num <= 5 AND working_day = False THEN order_date END) as tt_order_hol_oct,\n",
    "            COUNT(case when EXTRACT(MONTH FROM order_date) = 11 AND day_of_the_week_num <= 5 AND working_day = False THEN order_date END) as tt_order_hol_nov,\n",
    "            COUNT(case when EXTRACT(MONTH FROM order_date) = 12 AND day_of_the_week_num <= 5 AND working_day = False THEN order_date END) as tt_order_hol_dec\n",
    "        FROM (\n",
    "            SELECT order_date, day_of_the_week_num, working_day\n",
    "            FROM idrialug9071_staging.orders \n",
    "            JOIN if_common.dim_dates \n",
    "                ON orders.order_date = dim_dates.calendar_dt\n",
    "            WHERE EXTRACT(YEAR FROM order_date) = 2022\n",
    "        ) subquery\n",
    "\n",
    "            ''')\n",
    "\n",
    "\n",
    "    \n",
    "except psycopg2.Error as e:\n",
    "    print('Error: Issue Creating table')\n",
    "    print(e)"
   ]
  },
  {
   "cell_type": "code",
   "execution_count": 59,
   "id": "0171f82c",
   "metadata": {},
   "outputs": [],
   "source": [
    "with open('agg_public_holiday.csv', 'w') as f:\n",
    "    cur.copy_expert(f\"COPY {ANALYTICS_SCHEMA}.agg_public_holiday TO STDOUT WITH HEADER CSV\", f)\n",
    "    \n",
    "s3.upload_file('agg_public_holiday.csv', S3_BUCKET_NAME, f'{EXPORT}/{ID}/agg_public_holiday.csv')"
   ]
  },
  {
   "cell_type": "markdown",
   "id": "768b692a",
   "metadata": {},
   "source": [
    "## Task 2 & 3"
   ]
  },
  {
   "cell_type": "code",
   "execution_count": 60,
   "id": "2e7cf1f7",
   "metadata": {},
   "outputs": [],
   "source": [
    "# Create agg_shipments table schema\n",
    "try:\n",
    "    cur.execute('''\n",
    "    DROP TABLE IF EXISTS idrialug9071_analytics.agg_shipments;\n",
    "    CREATE TABLE idrialug9071_analytics.agg_shipments(\n",
    "    ingestion_date date not null primary key,\n",
    "    tt_late_shipments integer not null,\n",
    "    tt_undelivered_shipments integer not null\n",
    "    );''')\n",
    "    \n",
    "    # Query to get the number of late and undelivered shipments \n",
    "\n",
    "    cur.execute('''\n",
    "        INSERT INTO idrialug9071_analytics.agg_shipments (\n",
    "        ingestion_date,\n",
    "        tt_late_shipments,\n",
    "        tt_undelivered_shipments\n",
    "        )\n",
    "        SELECT \n",
    "            now() as ingestion_date, \n",
    "            COUNT(case when (order_date + INTERVAL '6 day') <= shipment_date AND delivery_date IS NULL THEN 1 END) as tt_late_shipments,\n",
    "            COUNT(case when delivery_date IS NULL AND shipment_date IS NULL AND '2022-09-05' > (order_date + INTERVAL '15 day') THEN 1 END) as tt_undelivered_shipments\n",
    "        FROM (\n",
    "            SELECT orders.order_id, order_date, shipment_date, delivery_date\n",
    "            FROM idrialug9071_staging.orders \n",
    "            JOIN idrialug9071_staging.shipment_deliveries\n",
    "            ON orders.order_id = shipment_deliveries.order_id\n",
    "        ) subquery\n",
    "\n",
    "            ''')\n",
    "\n",
    "    \n",
    "except psycopg2.Error as e:\n",
    "    print('Error: Issue Creating table')\n",
    "    print(e)"
   ]
  },
  {
   "cell_type": "code",
   "execution_count": 61,
   "id": "8f17840c",
   "metadata": {},
   "outputs": [],
   "source": [
    "with open('agg_shipments.csv', 'w') as f:\n",
    "    cur.copy_expert(f\"COPY {ANALYTICS_SCHEMA}.agg_shipments TO STDOUT WITH HEADER CSV\", f)\n",
    "    \n",
    "s3.upload_file('agg_shipments.csv', S3_BUCKET_NAME, f'{EXPORT}/{ID}/agg_shipments.csv')"
   ]
  },
  {
   "cell_type": "markdown",
   "id": "89546ac4",
   "metadata": {},
   "source": [
    "## Task 4"
   ]
  },
  {
   "cell_type": "code",
   "execution_count": 62,
   "id": "94116334",
   "metadata": {},
   "outputs": [],
   "source": [
    "# # Create best_performing_product table schema\n",
    "try:\n",
    "    cur.execute('''\n",
    "    DROP TABLE IF EXISTS idrialug9071_analytics.best_performing_product;\n",
    "    CREATE TABLE idrialug9071_analytics.best_performing_product(\n",
    "    ingestion_date date not null primary key,\n",
    "    product_name varchar not null,\n",
    "    most_ordered_day date not null,\n",
    "    is_public_holiday bool not null,\n",
    "    tt_review_points integer not null,\n",
    "    pct_one_star_review float not null,\n",
    "    pct_two_star_review float not null,\n",
    "    pct_three_star_review float not null,\n",
    "    pct_four_star_review float not null,\n",
    "    pct_five_star_review float not null,\n",
    "    pct_early_shipments float not null,\n",
    "    pct_late_shipments float not null\n",
    "    );''')\n",
    "    \n",
    "#     # Query to get the best selling product\n",
    "\n",
    "    cur.execute('''\n",
    "        INSERT INTO idrialug9071_analytics.best_performing_product (\n",
    "        ingestion_date,\n",
    "        product_name,\n",
    "        most_ordered_day,\n",
    "        is_public_holiday,\n",
    "        tt_review_points,\n",
    "        pct_one_star_review,\n",
    "        pct_two_star_review,\n",
    "        pct_three_star_review,\n",
    "        pct_four_star_review,\n",
    "        pct_five_star_review,\n",
    "        pct_early_shipments,\n",
    "        pct_late_shipments\n",
    "        )\n",
    "         WITH \n",
    "              reviews_cte AS (\n",
    "                SELECT \n",
    "                  product_id, \n",
    "                  COUNT(review) AS total_reviews, \n",
    "                  AVG(review) AS avg_review_points, \n",
    "                  (SUM(CASE WHEN review = 1 THEN 1 ELSE 0 END) / COUNT(review))  AS pct_one_star_review, \n",
    "                  (SUM(CASE WHEN review = 2 THEN 1 ELSE 0 END) / COUNT(review))  AS pct_two_star_review, \n",
    "                  (SUM(CASE WHEN review = 3 THEN 1 ELSE 0 END) / COUNT(review))  AS pct_three_star_review, \n",
    "                  (SUM(CASE WHEN review = 4 THEN 1 ELSE 0 END) / COUNT(review))  AS pct_four_star_review, \n",
    "                  (SUM(CASE WHEN review = 5 THEN 1 ELSE 0 END) / COUNT(review))  AS pct_five_star_review\n",
    "                FROM \n",
    "                  idrialug9071_staging.reviews\n",
    "                GROUP BY \n",
    "                  product_id\n",
    "                ORDER BY avg_review_points DESC\n",
    "              ),\n",
    "\n",
    "                orders_cte as(\n",
    "                SELECT \n",
    "                        product_id, \n",
    "                        order_date,\n",
    "                        day_of_the_week_num, \n",
    "                        working_day,\n",
    "                        RANK() OVER (PARTITION BY product_id ORDER BY COUNT(*) DESC) as rank\n",
    "                    FROM orders\n",
    "                    JOIN if_common.dim_dates ON orders.order_date = dim_dates.calendar_dt\n",
    "                    GROUP BY product_id, order_date, day_of_the_week_num, working_day\n",
    "                    ),\n",
    "\n",
    "\n",
    "              shipments_cte AS (\n",
    "                SELECT \n",
    "                  orders.product_id, \n",
    "                  COUNT(case when (order_date + INTERVAL '6 day') >= shipment_date AND delivery_date IS NULL THEN 1 END) as tt_early_shipments,\n",
    "                  COUNT(case when (order_date + INTERVAL '6 day') <= shipment_date AND delivery_date IS NULL THEN 1 END) as tt_late_shipments\n",
    "                FROM idrialug9071_staging.orders \n",
    "                    JOIN idrialug9071_staging.shipment_deliveries\n",
    "                    ON orders.order_id = shipment_deliveries.order_id\n",
    "                GROUP BY \n",
    "                  orders.product_id\n",
    "              )\n",
    "\n",
    "            SELECT \n",
    "              now(),\n",
    "              dim_products.product_name, \n",
    "              orders_cte.order_date as most_ordered_day,\n",
    "              CASE \n",
    "                WHEN day_of_the_week_num <= 5 AND working_day = False THEN TRUE ELSE FALSE \n",
    "                END AS is_public_holiday,\n",
    "              reviews_cte.avg_review_points,\n",
    "              pct_one_star_review,\n",
    "              pct_two_star_review,\n",
    "              pct_three_star_review,\n",
    "              pct_four_star_review,\n",
    "              pct_five_star_review,\n",
    "              (shipments_cte.tt_early_shipments / (shipments_cte.tt_late_shipments + shipments_cte.tt_early_shipments)) AS pct_early_shipments,\n",
    "              (shipments_cte.tt_late_shipments / (shipments_cte.tt_late_shipments + shipments_cte.tt_early_shipments)) AS pct_late_shipments \n",
    "            FROM \n",
    "              if_common.dim_products \n",
    "            JOIN \n",
    "              reviews_cte ON dim_products .product_id = reviews_cte.product_id \n",
    "            JOIN \n",
    "              orders_cte ON dim_products.product_id = orders_cte.product_id \n",
    "            JOIN \n",
    "              shipments_cte ON dim_products.product_id = shipments_cte.product_id \n",
    "            WHERE \n",
    "              reviews_cte.avg_review_points = (\n",
    "                SELECT \n",
    "                  MAX(avg_review_points) \n",
    "                FROM \n",
    "                  reviews_cte) AND orders_cte.rank = 1\n",
    "\n",
    "            ORDER BY orders_cte.rank\n",
    "            LIMIT 1\n",
    "\n",
    "            ''')\n",
    "\n",
    "    \n",
    "except psycopg2.Error as e:\n",
    "    print('Error: Issue Creating table')\n",
    "    print(e)"
   ]
  },
  {
   "cell_type": "code",
   "execution_count": 63,
   "id": "c699edb3",
   "metadata": {},
   "outputs": [],
   "source": [
    "with open('best_performing_product.csv', 'w') as f:\n",
    "    cur.copy_expert(f\"COPY {ANALYTICS_SCHEMA}.best_performing_product TO STDOUT WITH HEADER CSV\", f)\n",
    "    \n",
    "s3.upload_file('best_performing_product.csv', S3_BUCKET_NAME, f'{EXPORT}/{ID}/best_performing_product.csv')"
   ]
  },
  {
   "cell_type": "code",
   "execution_count": 64,
   "id": "37256396",
   "metadata": {},
   "outputs": [],
   "source": [
    "conn.close()"
   ]
  }
 ],
 "metadata": {
  "kernelspec": {
   "display_name": "Python 3 (ipykernel)",
   "language": "python",
   "name": "python3"
  },
  "language_info": {
   "codemirror_mode": {
    "name": "ipython",
    "version": 3
   },
   "file_extension": ".py",
   "mimetype": "text/x-python",
   "name": "python",
   "nbconvert_exporter": "python",
   "pygments_lexer": "ipython3",
   "version": "3.9.13"
  }
 },
 "nbformat": 4,
 "nbformat_minor": 5
}
